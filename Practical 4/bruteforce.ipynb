{
  "nbformat": 4,
  "nbformat_minor": 0,
  "metadata": {
    "colab": {
      "provenance": [],
      "collapsed_sections": []
    },
    "kernelspec": {
      "name": "python3",
      "display_name": "Python 3"
    },
    "language_info": {
      "name": "python"
    },
    "accelerator": "TPU"
  },
  "cells": [
    {
      "cell_type": "code",
      "execution_count": 1,
      "metadata": {
        "id": "1G0ffQRxVIup",
        "colab": {
          "base_uri": "https://localhost:8080/"
        },
        "outputId": "3787e833-941f-4761-9350-37a1011807b7"
      },
      "outputs": [
        {
          "output_type": "stream",
          "name": "stdout",
          "text": [
            "Enter your password : jay\n",
            "Bruteforcing your password: \n",
            "Your password is :  jay\n"
          ]
        }
      ],
      "source": [
        "# importing random\n",
        "from random import *\n",
        "\n",
        "# taking input from user\n",
        "user_pass = input(\"Enter your password : \")\n",
        "\n",
        "# storing alphabet letter to use thm to crack password\n",
        "password = ['a', 'b', 'c', 'd', 'e', 'f', 'g', 'h', 'i', 'j','k', \n",
        "            'l', 'm', 'n', 'o', 'p', 'q', 'r', 's', 't','u','v', \n",
        "            'w', 'x', 'y', 'z',]\n",
        "\n",
        "# initializing an empty string\n",
        "guess = \"\"\n",
        "\n",
        "# using while loop to generate many passwords untill one of\n",
        "# them does not matches user_pass\n",
        "\n",
        "print(\"Bruteforcing your password: \")\n",
        "while (guess != user_pass):\n",
        "    guess = \"\"\n",
        "    # generating random passwords using for loop\n",
        "    for letter in range(len(user_pass)):\n",
        "        guess_letter = password[randint(0, 25)]\n",
        "        guess = str(guess_letter) + str(guess)\n",
        "    # printing guessed passwords\n",
        "    \n",
        "# printing the matched password\n",
        "print(\"Your password is : \",guess)"
      ]
    }
  ]
}